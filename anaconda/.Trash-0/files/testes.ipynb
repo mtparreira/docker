{
 "cells": [
  {
   "cell_type": "code",
   "execution_count": null,
   "id": "afbdbb0c",
   "metadata": {},
   "outputs": [],
   "source": [
    "from datetime import datetime\n",
    "\n",
    "v_conta = ''\n",
    "v_hora  = int(datetime.today().strftime('%M'))"
   ]
  },
  {
   "cell_type": "code",
   "execution_count": 2,
   "id": "5c5fdd98",
   "metadata": {},
   "outputs": [
    {
     "ename": "SyntaxError",
     "evalue": "invalid syntax (<ipython-input-2-f48ad22fdd33>, line 1)",
     "output_type": "error",
     "traceback": [
      "\u001b[0;36m  File \u001b[0;32m\"<ipython-input-2-f48ad22fdd33>\"\u001b[0;36m, line \u001b[0;32m1\u001b[0m\n\u001b[0;31m    if int(v_hora.in) <= 1:\u001b[0m\n\u001b[0m                  ^\u001b[0m\n\u001b[0;31mSyntaxError\u001b[0m\u001b[0;31m:\u001b[0m invalid syntax\n"
     ]
    }
   ],
   "source": [
    "if v_hora <= 1:\n",
    "    v_conta = tcc_app_01\n",
    "else if v_hora <= 11:\n",
    "    v_conta = tcc_app_11\n",
    "else if v_hora <= 21:\n",
    "    v_conta = tcc_app_21\n",
    "else if v_hora <= 31:\n",
    "    v_conta = tcc_app_31\n",
    "else if v_hora <= 41:\n",
    "    v_conta = tcc_app_41\n",
    "else if v_hora <= 51:\n",
    "    v_conta = tcc_app_51"
   ]
  },
  {
   "cell_type": "code",
   "execution_count": null,
   "id": "a513f40a",
   "metadata": {},
   "outputs": [],
   "source": [
    "v_conta"
   ]
  }
 ],
 "metadata": {
  "kernelspec": {
   "display_name": "Python 3",
   "language": "python",
   "name": "python3"
  },
  "language_info": {
   "codemirror_mode": {
    "name": "ipython",
    "version": 3
   },
   "file_extension": ".py",
   "mimetype": "text/x-python",
   "name": "python",
   "nbconvert_exporter": "python",
   "pygments_lexer": "ipython3",
   "version": "3.8.8"
  }
 },
 "nbformat": 4,
 "nbformat_minor": 5
}
