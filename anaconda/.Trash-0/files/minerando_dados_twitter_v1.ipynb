{
 "cells": [
  {
   "cell_type": "code",
   "execution_count": null,
   "id": "e619002e",
   "metadata": {},
   "outputs": [],
   "source": [
    "# Carrega bibliotecas\n",
    "import unicodedata\n",
    "import configparser\n",
    "import pandas as pd\n",
    "\n",
    "from TwitterSearch import *\n",
    "from datetime import datetime"
   ]
  },
  {
   "cell_type": "code",
   "execution_count": null,
   "id": "37b7dabb",
   "metadata": {},
   "outputs": [],
   "source": [
    "# Variaveis Globais\n",
    "vg_registros  = []\n",
    "vg_resultado  = pd.DataFrame()\n",
    "vg_pasta      = '/home/python/'\n",
    "vg_ini        = configparser.ConfigParser()\n",
    "vg_pesquisas  = ['xbox','playstation','ps','windows','game','play','farm']\n",
    "\n",
    "# Cores do terminal\n",
    "vg_terminal = '\\33[00m'\n",
    "vg_vermelho = '\\33[01;31m'\n",
    "vg_verde    = '\\33[01;32m'\n",
    "vg_amarelo  = '\\33[01;33m'\n",
    "vg_magenta  = '\\33[01;35m'\n",
    "vg_azul     = '\\33[01;36m'\n",
    "vg_branco   = '\\33[01;37m'"
   ]
  },
  {
   "cell_type": "code",
   "execution_count": null,
   "id": "5fb875f1",
   "metadata": {},
   "outputs": [],
   "source": [
    "# Minera dados no Twitter\n",
    "vg_ini.read(vg_pasta+'/parametros.ini')\n",
    "\n",
    "for v_index, v_pesquisa in enumerate(vg_pesquisas):    \n",
    "    v_controle = 0  \n",
    "    \n",
    "    while v_controle < 10:\n",
    "        v_controle += 1\n",
    "        print(vg_branco+'Minerando dados no Twitter: ' \\\n",
    "              +vg_amarelo+'[ '+vg_branco+'Tentativa -> ' \\\n",
    "              +vg_verde+str(v_controle)+vg_magenta+' | ' \\\n",
    "              +vg_branco+'Pesquisa -> ' \\\n",
    "              +vg_verde+v_pesquisa \\\n",
    "              +vg_amarelo+' ]'+vg_terminal)\n",
    "        v_tso = None\n",
    "        v_tcc_app_01 = None\n",
    "        \n",
    "        try:\n",
    "            # Credenciais do Twitter\n",
    "            v_tcc_app_01 = TwitterSearch(\n",
    "                consumer_key = vg_ini['tcc_app_01']['consumer_key'],\n",
    "                consumer_secret = vg_ini['tcc_app_01']['consumer_secret'],\n",
    "                access_token = vg_ini['tcc_app_01']['access_token'],\n",
    "                access_token_secret = vg_ini['tcc_app_01']['access_token_secret']\n",
    "            )\n",
    "            \n",
    "            # Filtros para pesquisa\n",
    "            v_tso = TwitterSearchOrder()\n",
    "            v_tso.set_keywords([v_pesquisa],'it takes two')\n",
    "            v_tso.set_language('en')\n",
    "            v_tso.set_locale('en')\n",
    "            v_tso.set_count(10)        \n",
    "\n",
    "            # Coleta\n",
    "            for v_tweet in v_tcc_app_01.search_tweets_iterable(v_tso):\n",
    "                v_texto = v_tweet['text']\n",
    "                v_texto = v_texto.replace('\"','')\n",
    "                v_texto = ''.join(ch for ch in unicodedata.normalize('NFKD', v_texto) if not unicodedata.combining(ch))\n",
    "                vg_registros.append([datetime.today().strftime('%Y-%m-%d'),v_pesquisa,v_tweet['user']['screen_name'],v_texto])\n",
    "            \n",
    "            v_controle = 10\n",
    "            print(vg_azul+'... Extração realizada: ' \\\n",
    "                  +vg_amarelo+'[ '+vg_branco+'Pesquisa -> ' \\\n",
    "                  +vg_verde+v_pesquisa \\\n",
    "                  +vg_amarelo+' ]'+vg_terminal)\n",
    "            \n",
    "        except:\n",
    "            print(vg_vermelho+'... Falha de extração: ' \\\n",
    "                  +vg_amarelo+'[ '+vg_branco+'Tentativa -> ' \\\n",
    "                  +vg_verde+str(v_controle) \\\n",
    "                  +vg_amarelo+' ]'+vg_terminal)"
   ]
  },
  {
   "cell_type": "code",
   "execution_count": null,
   "id": "9d0a1202",
   "metadata": {},
   "outputs": [],
   "source": [
    "# Exporta resultados\n",
    "if len(vg_registros) > 0:\n",
    "    vg_resultado = pd.DataFrame(vg_registros)\n",
    "    vg_resultado.index.name='indice'\n",
    "    vg_resultado.columns = ['coleta','pesquisa','usuario','tweet']\n",
    "    v_duplicados = vg_resultado['tweet'].count()\n",
    "    vg_resultado.drop_duplicates(['tweet'], inplace=True)\n",
    "    v_duplicados = v_duplicados - vg_resultado['tweet'].count()\n",
    "    vg_resultado.to_json(vg_pasta+'novos/'+vg_ini['tcc']['host'].replace('.','')+datetime.today().strftime('%Y%m%d%H%M%S')+'.json',orient=\"records\")\n",
    "    print(vg_branco+'Foram removidas '+vg_verde+str(v_duplicados)+vg_vermelho+' duplicidades'+vg_terminal)\n",
    "    print(vg_branco+'Foram coletados '+vg_verde+str(vg_resultado.tweet.count())+vg_azul+' tweets'+vg_terminal)"
   ]
  }
 ],
 "metadata": {
  "kernelspec": {
   "display_name": "Python 3",
   "language": "python",
   "name": "python3"
  },
  "language_info": {
   "codemirror_mode": {
    "name": "ipython",
    "version": 3
   },
   "file_extension": ".py",
   "mimetype": "text/x-python",
   "name": "python",
   "nbconvert_exporter": "python",
   "pygments_lexer": "ipython3",
   "version": "3.8.8"
  }
 },
 "nbformat": 4,
 "nbformat_minor": 5
}
