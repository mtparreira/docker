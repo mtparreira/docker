{
 "cells": [
  {
   "cell_type": "code",
   "execution_count": 1,
   "id": "8ee4cc75",
   "metadata": {},
   "outputs": [],
   "source": [
    "# Carrega bibliotecas\n",
    "import os\n",
    "\n",
    "# Parametros iniciais\n",
    "vg_comandos     = []\n",
    "vg_dir_local    = '/home/python/'\n",
    "vg_dir_servidor = '/root/docker/anaconda/python/'\n",
    "vg_arquivos     = os.listdir(vg_dir_local+'coleta/')\n"
   ]
  },
  {
   "cell_type": "code",
   "execution_count": 4,
   "id": "b70dabdd",
   "metadata": {},
   "outputs": [],
   "source": [
    "# Comandos para carga automatizada NoSQL e guarda de coletas\n",
    "if len(vg_arquivos) > 0:    \n",
    "    for v_arquivo in vg_arquivos:\n",
    "        v_comando = ''\n",
    "        if v_arquivo[v_arquivo.index('.'):] == '.json':\n",
    "            v_comando =  '\\n# '+v_arquivo+'\\n'\n",
    "            v_comando += 'docker exec -it mongo_devops /bin/bash -c'\n",
    "            v_comando += ' \"mongoimport --host localhost --port 27017 --username usrtcc --password usrtcc'\n",
    "            v_comando += ' --db tcc --collection twitters'\n",
    "            v_comando += ' --type json --jsonArray --file /home/coleta/'+v_arquivo+ '\"\\n'\n",
    "            v_comando += 'mv '+vg_dir_servidor+'coleta/'+v_arquivo+' '+vg_dir_servidor+'carga/'+v_arquivo+'\\n'\n",
    "        vg_comandos.append(v_comando)\n"
   ]
  },
  {
   "cell_type": "code",
   "execution_count": 5,
   "id": "4e242c47",
   "metadata": {},
   "outputs": [],
   "source": [
    "# Gerar script de importacao\n",
    "with open(vg_dir_local+'importar_registros_nosql.sh', 'w') as v_arquivo:\n",
    "    v_arquivo.write('#/bin/bash\\n')\n",
    "    for v_comando in vg_comandos:\n",
    "        v_arquivo.write(v_comando)\n",
    "        "
   ]
  }
 ],
 "metadata": {
  "kernelspec": {
   "display_name": "Python 3",
   "language": "python",
   "name": "python3"
  },
  "language_info": {
   "codemirror_mode": {
    "name": "ipython",
    "version": 3
   },
   "file_extension": ".py",
   "mimetype": "text/x-python",
   "name": "python",
   "nbconvert_exporter": "python",
   "pygments_lexer": "ipython3",
   "version": "3.8.8"
  }
 },
 "nbformat": 4,
 "nbformat_minor": 5
}
